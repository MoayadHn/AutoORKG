{
 "cells": [
  {
   "cell_type": "markdown",
   "id": "ea39e366-77e6-4c50-ae07-955455ebb8b6",
   "metadata": {},
   "source": [
    "# Content: \n",
    "---\n",
    "1. [Libraries and resources](#resources)\n",
    "1. [Data Loading](#data)\n",
    "1. [ORKG connect](#orkg)\n"
   ]
  },
  {
   "cell_type": "markdown",
   "id": "2fd7c533-2261-4e47-a835-3ab6e5857aa3",
   "metadata": {},
   "source": [
    "<a id=\"resources\"></a>\n",
    "# 1. Resources"
   ]
  },
  {
   "cell_type": "code",
   "execution_count": 1,
   "id": "fd94931d-172c-417c-a2d2-42b06ac60647",
   "metadata": {},
   "outputs": [],
   "source": [
    "import util.util as utility"
   ]
  },
  {
   "cell_type": "markdown",
   "id": "f81f8de7-34fd-4d40-a2c2-5da8bd91368a",
   "metadata": {},
   "source": [
    "<a id=\"data\"></a>\n",
    "# 2. Data\n",
    "    Loading the data from the Excel file into a Data Frame."
   ]
  },
  {
   "cell_type": "code",
   "execution_count": 2,
   "id": "19541124-a0c3-4ddd-b8d0-6cd850a1560c",
   "metadata": {},
   "outputs": [
    {
     "name": "stderr",
     "output_type": "stream",
     "text": [
      "/opt/miniconda3/envs/nfdi-env/lib/python3.12/site-packages/openpyxl/worksheet/_read_only.py:85: UserWarning: Data Validation extension is not supported and will be removed\n",
      "  for idx, row in parser.parse():\n"
     ]
    },
    {
     "data": {
      "text/html": [
       "<div>\n",
       "<style scoped>\n",
       "    .dataframe tbody tr th:only-of-type {\n",
       "        vertical-align: middle;\n",
       "    }\n",
       "\n",
       "    .dataframe tbody tr th {\n",
       "        vertical-align: top;\n",
       "    }\n",
       "\n",
       "    .dataframe thead th {\n",
       "        text-align: right;\n",
       "    }\n",
       "</style>\n",
       "<table border=\"1\" class=\"dataframe\">\n",
       "  <thead>\n",
       "    <tr style=\"text-align: right;\">\n",
       "      <th>1</th>\n",
       "      <th>ID</th>\n",
       "      <th>Coder_1</th>\n",
       "      <th>Coder_2</th>\n",
       "      <th>Title</th>\n",
       "      <th>Authors</th>\n",
       "      <th>DOI</th>\n",
       "      <th>Jahr</th>\n",
       "      <th>Track</th>\n",
       "      <th>Keywords</th>\n",
       "      <th>Research_Question</th>\n",
       "      <th>...</th>\n",
       "      <th>A2_Evaluation_Method_2</th>\n",
       "      <th>A2_Evaluation_Method_3</th>\n",
       "      <th>A2_Evaluation_Method_4</th>\n",
       "      <th>A2_Threats_to_Validity_1</th>\n",
       "      <th>A2_Threats_to_Validity_2</th>\n",
       "      <th>A2_Threats_to_Validity_3</th>\n",
       "      <th>A2_Threats_to_Validity_4</th>\n",
       "      <th>A2_Existence</th>\n",
       "      <th>A2_Availability</th>\n",
       "      <th>Comments</th>\n",
       "    </tr>\n",
       "  </thead>\n",
       "  <tbody>\n",
       "    <tr>\n",
       "      <th>0</th>\n",
       "      <td>1</td>\n",
       "      <td>MA Via ET</td>\n",
       "      <td>NaN</td>\n",
       "      <td>Ranking the Top-K Realizations of Stochastical...</td>\n",
       "      <td>Arvid Lepsien, Marco Pegoraro, Frederik Fonger...</td>\n",
       "      <td>https://doi.org/10.48550/arXiv.2410.00067</td>\n",
       "      <td>2024</td>\n",
       "      <td>NaN</td>\n",
       "      <td>Event Data, Uncertainty, Top-K Ranking, Algorithm</td>\n",
       "      <td>(RQ1) How to efficiently calculate top-K ranki...</td>\n",
       "      <td>...</td>\n",
       "      <td>Case Study</td>\n",
       "      <td>NaN</td>\n",
       "      <td>NaN</td>\n",
       "      <td>NaN</td>\n",
       "      <td>NaN</td>\n",
       "      <td>NaN</td>\n",
       "      <td>NaN</td>\n",
       "      <td>Yes</td>\n",
       "      <td>Yes</td>\n",
       "      <td>NaN</td>\n",
       "    </tr>\n",
       "    <tr>\n",
       "      <th>1</th>\n",
       "      <td>2</td>\n",
       "      <td>MA Via ET</td>\n",
       "      <td>NaN</td>\n",
       "      <td>Differentially Private Inductive Miner</td>\n",
       "      <td>Max Schulze, Yorck Yisgen, Moritz Kirschte, Es...</td>\n",
       "      <td>https://doi.org/10.48550/arXiv.2407.04595</td>\n",
       "      <td>2024</td>\n",
       "      <td>NaN</td>\n",
       "      <td>Process mining, Differential Privacy, Process ...</td>\n",
       "      <td>Implicitly stated: How to develop a privacy-pr...</td>\n",
       "      <td>...</td>\n",
       "      <td>NaN</td>\n",
       "      <td>NaN</td>\n",
       "      <td>NaN</td>\n",
       "      <td>NaN</td>\n",
       "      <td>NaN</td>\n",
       "      <td>NaN</td>\n",
       "      <td>NaN</td>\n",
       "      <td>NaN</td>\n",
       "      <td>NaN</td>\n",
       "      <td>NaN</td>\n",
       "    </tr>\n",
       "  </tbody>\n",
       "</table>\n",
       "<p>2 rows × 83 columns</p>\n",
       "</div>"
      ],
      "text/plain": [
       "1 ID    Coder_1 Coder_2                                              Title  \\\n",
       "0  1  MA Via ET     NaN  Ranking the Top-K Realizations of Stochastical...   \n",
       "1  2  MA Via ET     NaN             Differentially Private Inductive Miner   \n",
       "\n",
       "1                                            Authors  \\\n",
       "0  Arvid Lepsien, Marco Pegoraro, Frederik Fonger...   \n",
       "1  Max Schulze, Yorck Yisgen, Moritz Kirschte, Es...   \n",
       "\n",
       "1                                        DOI  Jahr Track  \\\n",
       "0  https://doi.org/10.48550/arXiv.2410.00067  2024   NaN   \n",
       "1  https://doi.org/10.48550/arXiv.2407.04595  2024   NaN   \n",
       "\n",
       "1                                           Keywords  \\\n",
       "0  Event Data, Uncertainty, Top-K Ranking, Algorithm   \n",
       "1  Process mining, Differential Privacy, Process ...   \n",
       "\n",
       "1                                  Research_Question  ...  \\\n",
       "0  (RQ1) How to efficiently calculate top-K ranki...  ...   \n",
       "1  Implicitly stated: How to develop a privacy-pr...  ...   \n",
       "\n",
       "1 A2_Evaluation_Method_2 A2_Evaluation_Method_3 A2_Evaluation_Method_4  \\\n",
       "0             Case Study                    NaN                    NaN   \n",
       "1                    NaN                    NaN                    NaN   \n",
       "\n",
       "1 A2_Threats_to_Validity_1 A2_Threats_to_Validity_2 A2_Threats_to_Validity_3  \\\n",
       "0                      NaN                      NaN                      NaN   \n",
       "1                      NaN                      NaN                      NaN   \n",
       "\n",
       "1 A2_Threats_to_Validity_4 A2_Existence A2_Availability Comments  \n",
       "0                      NaN          Yes             Yes      NaN  \n",
       "1                      NaN          NaN             NaN      NaN  \n",
       "\n",
       "[2 rows x 83 columns]"
      ]
     },
     "execution_count": 2,
     "metadata": {},
     "output_type": "execute_result"
    }
   ],
   "source": [
    "source = \"data/OpenSource_Papers_Coding_Schema_Data.xlsx\"\n",
    "df = utility.loadExcel(fileName = source, sheetName= 1, dropHeader=[0,1,2,3])\n",
    "df.head()"
   ]
  },
  {
   "cell_type": "markdown",
   "id": "5f227818-4387-4826-bee6-7c2444a7476c",
   "metadata": {},
   "source": [
    "<a id=\"orkg\"></a>\n",
    "# 3. ORKG"
   ]
  },
  {
   "cell_type": "code",
   "execution_count": null,
   "id": "fe77d935-bb63-4e33-80cb-40e69c35baaa",
   "metadata": {},
   "outputs": [],
   "source": []
  },
  {
   "cell_type": "code",
   "execution_count": null,
   "id": "135cde92-10e0-458d-87fb-b28db1bb0d2f",
   "metadata": {},
   "outputs": [],
   "source": []
  }
 ],
 "metadata": {
  "kernelspec": {
   "display_name": "Python 3 (ipykernel)",
   "language": "python",
   "name": "python3"
  },
  "language_info": {
   "codemirror_mode": {
    "name": "ipython",
    "version": 3
   },
   "file_extension": ".py",
   "mimetype": "text/x-python",
   "name": "python",
   "nbconvert_exporter": "python",
   "pygments_lexer": "ipython3",
   "version": "3.12.9"
  }
 },
 "nbformat": 4,
 "nbformat_minor": 5
}
